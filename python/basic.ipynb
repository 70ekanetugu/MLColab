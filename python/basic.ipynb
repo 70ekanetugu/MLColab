{
  "nbformat": 4,
  "nbformat_minor": 0,
  "metadata": {
    "colab": {
      "name": "basic.ipynb",
      "provenance": [],
      "collapsed_sections": [],
      "authorship_tag": "ABX9TyMveCdbNQcecpJV3tSLIz+7",
      "include_colab_link": true
    },
    "kernelspec": {
      "name": "python3",
      "display_name": "Python 3"
    },
    "language_info": {
      "name": "python"
    }
  },
  "cells": [
    {
      "cell_type": "markdown",
      "metadata": {
        "id": "view-in-github",
        "colab_type": "text"
      },
      "source": [
        "<a href=\"https://colab.research.google.com/github/70ekanetugu/MLColab/blob/main/python/basic.ipynb\" target=\"_parent\"><img src=\"https://colab.research.google.com/assets/colab-badge.svg\" alt=\"Open In Colab\"/></a>"
      ]
    },
    {
      "cell_type": "code",
      "execution_count": 13,
      "metadata": {
        "id": "6uAj6ybSFtUF"
      },
      "outputs": [],
      "source": [
        "# primitive type\n",
        "a = 123 # int\n",
        "b = 123.456 # float\n",
        "c = \"Hello World!\" # str(文字列)\n",
        "d = True # bool\n",
        "e = [1, 2, 3] # list\n"
      ]
    },
    {
      "cell_type": "code",
      "source": [
        "# 演算子\n",
        "div1 = 123 / 2 # 割る(少数)\n",
        "print(div1)\n",
        "div2 = 123 // 2 # 割る(整数)\n",
        "print(div2)\n",
        "remainder = 123 % 2 # 余り\n",
        "print(remainder)\n",
        "exponentiation = 2 ** 3 # べき乗\n",
        "print(exponentiation)"
      ],
      "metadata": {
        "colab": {
          "base_uri": "https://localhost:8080/"
        },
        "id": "WY73HumUJHaB",
        "outputId": "51cbb90b-95da-49a3-feb9-10e6706b9166"
      },
      "execution_count": 14,
      "outputs": [
        {
          "output_type": "stream",
          "name": "stdout",
          "text": [
            "61.5\n",
            "61\n",
            "1\n",
            "8\n"
          ]
        }
      ]
    },
    {
      "cell_type": "code",
      "source": [
        "# リスト\n",
        "a = [1,2,3,4,5] # 初期化\n",
        "a = list(range(7)) # 初期化\n",
        "a.append(6) # 追加\n",
        "a[2] = 99 # 上書き\n",
        "a.remove(4) # 削除 (指定の値と等しい最初の要素を削除)\n",
        "del a[1] # 削除 (指定インデックスの要素を削除)\n",
        "a.pop(4) # 削除 (指定インデックスの値を取得して削除)\n",
        "# a.clear() 空にする\n",
        "print(a)  \n"
      ],
      "metadata": {
        "colab": {
          "base_uri": "https://localhost:8080/"
        },
        "id": "0Rp72svsJI_a",
        "outputId": "75d08d69-3937-4705-fa08-17ad4dd652fa"
      },
      "execution_count": 31,
      "outputs": [
        {
          "output_type": "stream",
          "name": "stdout",
          "text": [
            "[0, 99, 3, 5, 6]\n"
          ]
        }
      ]
    },
    {
      "cell_type": "code",
      "source": [
        "# タプル\n",
        "a = (1,2,3,4,5) # 初期化\n",
        "b = (2,) # 初期化 (1つだけの場合は最後に「,」が必要) \n",
        "print(b)\n"
      ],
      "metadata": {
        "colab": {
          "base_uri": "https://localhost:8080/"
        },
        "id": "bsbcUAFgJKxC",
        "outputId": "b0a26382-6130-4237-cf0c-af0bf2c33192"
      },
      "execution_count": 17,
      "outputs": [
        {
          "output_type": "stream",
          "name": "stdout",
          "text": [
            "(2,)\n"
          ]
        }
      ]
    },
    {
      "cell_type": "code",
      "source": [
        "# 分割代入\n",
        "a = [1,2,3]\n",
        "a1, a2, a3 = a\n",
        "print(a1, a2, a3)\n",
        "b = (1,2,3)\n",
        "b1, b2, b3 = b\n",
        "print(b1, b2, b3)\n"
      ],
      "metadata": {
        "colab": {
          "base_uri": "https://localhost:8080/"
        },
        "id": "ksMwzhnQJMCj",
        "outputId": "9ca13198-2e74-43b7-d12f-c1bf639ec1f3"
      },
      "execution_count": 19,
      "outputs": [
        {
          "output_type": "stream",
          "name": "stdout",
          "text": [
            "1 2 3\n",
            "1 2 3\n"
          ]
        }
      ]
    },
    {
      "cell_type": "code",
      "source": [
        "# 辞書\n",
        "a = {\"Artificial\": 1, \"Intelligence\": 2} # 初期化\n",
        "a[\"Artificial\"] = 7 # 上書き\n",
        "a[\"ML\"] = 3 # 追加\n",
        "a.pop(\"ML\") # 削除(指定keyの要素を取得して削除)\n",
        "b = a.popitem() # 削除(key, valueをタプルとして取得し削除。要素は指定できない)\n",
        "\n",
        "print(b)\n"
      ],
      "metadata": {
        "colab": {
          "base_uri": "https://localhost:8080/"
        },
        "id": "WePRtIltJNUD",
        "outputId": "3d822847-1c80-46af-8f90-7847346ca205"
      },
      "execution_count": 32,
      "outputs": [
        {
          "output_type": "stream",
          "name": "stdout",
          "text": [
            "('Intelligence', 2)\n"
          ]
        }
      ]
    },
    {
      "cell_type": "code",
      "source": [
        "# セット\n",
        "a = {1,1,2,3,4,4,5,5,5} # 初期化\n",
        "a = set([1,1,2,3,4,4,5,5,5]) # 初期化(リストから生成する場合)\n",
        "a.add(6) # 追加\n",
        "a.remove(2) # 削除 (指定の値を持つ要素を削除)\n",
        "print(a)"
      ],
      "metadata": {
        "colab": {
          "base_uri": "https://localhost:8080/"
        },
        "id": "rOzmEiYZLzjy",
        "outputId": "f582dc85-313a-45d3-e332-2fb01e82b1a5"
      },
      "execution_count": 39,
      "outputs": [
        {
          "output_type": "stream",
          "name": "stdout",
          "text": [
            "{1, 3, 4, 5, 6}\n"
          ]
        }
      ]
    },
    {
      "cell_type": "code",
      "source": [
        "# 変数スコープ\n",
        "a = 21\n",
        "\n",
        "def globalUse():\n",
        "  global a # グローバル変数を関数内で変更する場合はこの宣言が必要。参照だけならこの宣言なくてもそのまま使える。\n",
        "  a = 43\n",
        "  print(a)\n",
        "\n",
        "print(a)\n",
        "globalUse()\n",
        "print(a)\n"
      ],
      "metadata": {
        "colab": {
          "base_uri": "https://localhost:8080/"
        },
        "id": "oubSDaBQMiZ6",
        "outputId": "5a9f2318-6c44-4890-c3f1-a60bf0113449"
      },
      "execution_count": 43,
      "outputs": [
        {
          "output_type": "stream",
          "name": "stdout",
          "text": [
            "21\n",
            "43\n",
            "43\n"
          ]
        }
      ]
    },
    {
      "cell_type": "code",
      "source": [
        "# for, if , while, 内包表記は省略\n",
        "\n"
      ],
      "metadata": {
        "id": "BXRFaY7iNKqb"
      },
      "execution_count": 46,
      "outputs": []
    },
    {
      "cell_type": "code",
      "source": [
        "# クラス\n",
        "class Calc:\n",
        "  # コンストラクタ。selfは必ず必要で、self以降が呼び出し側で引数に渡される値\n",
        "  def __init__(self, a):\n",
        "    self.a = a\n",
        "  \n",
        "  # クラスメソッド\n",
        "  def print():\n",
        "    print(\"くらすめそっど\")\n",
        "\n",
        "  # インスタンスメソッドはselfが必要\n",
        "  def add(self, b):\n",
        "    print(self.a + b)\n",
        "\n",
        "  def multiply(self, b):\n",
        "    print(self.a * b)\n",
        "\n",
        "Calc.print()\n",
        "c = Calc(5)\n",
        "c.add(2)\n",
        "c.multiply(2)\n",
        "\n",
        "# 継承\n",
        "class CalcNext(Calc):\n",
        "  def subtract(self, b):\n",
        "    print(self.a - b)\n",
        "  \n",
        "  def divide(self, b):\n",
        "    print(self.a / b)\n",
        "\n",
        "  # インスタンス変数名を使って呼び出せるメソッド(頻繁に使う処理を定義しておくのに使う)\n",
        "  def __call__(self, c):\n",
        "    print(self.a * c + c)\n",
        "\n",
        "c = CalcNext(10)\n",
        "c.subtract(2)\n",
        "c(1)\n",
        "\n",
        "# 独自例外クラス\n",
        "class MyException(Exception): # Exceptionを継承するだけ\n",
        "  def __init__(self, message):\n",
        "    self.msg = message\n",
        "  \n",
        "  # printに渡したときに呼ばれるメソッド\n",
        "  def __str__(self):\n",
        "    return self.msg\n",
        "\n",
        "# try文\n",
        "try:\n",
        "    raise MyException(\"独自例外のスロー\") # raiseで例外をスロー\n",
        "except Exception as e:\n",
        "  print(e)\n",
        "finally:\n",
        "  print(\"必ず実行したい処理\")\n",
        "  "
      ],
      "metadata": {
        "colab": {
          "base_uri": "https://localhost:8080/"
        },
        "id": "4S5okVWHNTcr",
        "outputId": "a5a8cbbf-2e80-4d3a-e7fd-cdb674627eca"
      },
      "execution_count": 71,
      "outputs": [
        {
          "output_type": "stream",
          "name": "stdout",
          "text": [
            "くらすめそっど\n",
            "7\n",
            "10\n",
            "8\n",
            "11\n",
            "独自例外のスロー\n",
            "必ず実行したい処理\n"
          ]
        }
      ]
    },
    {
      "cell_type": "code",
      "source": [
        "# パス関連\n",
        "import os\n",
        "print(os.path.abspath(\".\")) # カレントディレクトリ取得なら os.getcwd() のほうが良い\n",
        "\n",
        "# ファイル操作\n",
        "resourceDir = os.path.normpath(os.path.join(os.getcwd(), \"resources\")) # パスを結合して正規化(「.」などをパスから取り除く)\n",
        "if not os.path.exists(resourceDir and os.path.isdir(resourceDir)): # 存在チェック\n",
        "  os.mkdir(resourceDir) # ディレクトリ作成\n",
        "elif os.path.isfile(resourceDir): # ファイルかどうかチェック\n",
        "  print(\"resourcesはディレクトリではない\")\n",
        "\n",
        "f = open(os.path.join(resourceDir, \"greetings.txt\"), \"w\") # 「w」は新規、「a」は追加(存在しな変えれば新規作成), 「r」は読込み\n",
        "f.writelines([\"1行目の書込み\\n\", \"2行目の書込み\\n\", \"3行目の書込み\"]) # リストをまとめて書き込みたい場合。改行は明示しないといけない\n",
        "f.write(\"残りの文をまとめて書き込む\") # 渡した文字を全て書き込む\n",
        "f.close() \n",
        "\n",
        "# ファイルコピー\n",
        "import shutil\n",
        "shutil.copy(os.path.join(resourceDir, \"greetings.txt\"), os.path.join(resourceDir, \"greetings_copy.txt\"))\n",
        "\n",
        "# ファイル削除\n",
        "os.remove(os.path.join(resourceDir, \"greetings_copy.txt\")) # ディレクトリの場合、os.rmdir()"
      ],
      "metadata": {
        "colab": {
          "base_uri": "https://localhost:8080/"
        },
        "id": "NcLS8RgbPoVz",
        "outputId": "c5a1f8c1-f317-4979-b726-bd2dff8f59e8"
      },
      "execution_count": 134,
      "outputs": [
        {
          "output_type": "stream",
          "name": "stdout",
          "text": [
            "/content\n"
          ]
        }
      ]
    },
    {
      "cell_type": "code",
      "source": [
        "# with構文(try-resources的な奴)\n",
        "### ファイルの場合\n",
        "with open(\"./resources/greetings.txt\", \"r\") as f:\n",
        "  print(f.readline()) # 1行ずつ読込み\n",
        "  print(f.read()) # まとめて全部読む\n",
        "\n",
        "### 独自コンテキストマネージャー(=__enter__()と__exit__()を定義したクラス)の場合\n",
        "class MyContextManager:\n",
        "  # インスタンス生成時に実行される処理\n",
        "  def __enter__(self):\n",
        "    print(\"ENTER...\")\n",
        "  # withを抜けた時に呼び出される処理\n",
        "  def __exit__(self, exc_type, exc_value, traceback):\n",
        "    print(\"EXIT\")\n",
        "\n",
        "with MyContextManager() as ctx:\n",
        "  print(\"何かの処理...\")\n",
        "\n"
      ],
      "metadata": {
        "colab": {
          "base_uri": "https://localhost:8080/"
        },
        "id": "WAkANyZxVuyj",
        "outputId": "73e3bcda-bb57-4f9b-812d-2f9ec19dccd4"
      },
      "execution_count": 137,
      "outputs": [
        {
          "output_type": "stream",
          "name": "stdout",
          "text": [
            "1行目の書込み\n",
            "\n",
            "2行目の書込み\n",
            "3行目の書込み残りの文をまとめて書き込む\n",
            "ENTER...\n",
            "何かの処理...\n",
            "EXIT\n"
          ]
        }
      ]
    },
    {
      "cell_type": "code",
      "source": [
        "# 正規表現 (raw stringを表す「r」を前に付けることで、エスケープ文字を2回入力しなくて済む。rが無い場合「\\\\.」のように2回エスケープ文字が必要になる)\n",
        "import re\n",
        "pattern = re.compile(r\"^[a-z].*?$\") # 正規表現オブジェクトを取得(JavaのPattern.compile()とおなじ感じ)\n",
        "matcher = re.search(r\"^[a-z].*?\", \"target文字列\", re.I) # 最初からマッチオブジェクトを取得する場合。\n",
        "print(matcher)\n",
        "for iter in re.finditer(r\"[a-z]\", \"target文字列\"): # マッチオブジェクトのイテレーター取得。finditer()という関数もあり、そこにpatternを渡しても同じ\n",
        "  print(\"start: \" + str(iter.start()), \", end: \" + str(iter.end()) + \", pos: \" + str(iter.pos) + \", lastindex: \" + str(iter.endpos))\n",
        "  print(iter.span()) # span()でstart(), end()のタプルを取得できる\n"
      ],
      "metadata": {
        "colab": {
          "base_uri": "https://localhost:8080/"
        },
        "id": "enG_cVtIcE1E",
        "outputId": "2fba3a9e-df0e-4a46-aebf-e37ce3c90533"
      },
      "execution_count": 106,
      "outputs": [
        {
          "output_type": "stream",
          "name": "stdout",
          "text": [
            "<re.Match object; span=(0, 1), match='t'>\n",
            "start: 0 , end: 1, pos: 0, lastindex: 9\n",
            "(0, 1)\n",
            "start: 1 , end: 2, pos: 0, lastindex: 9\n",
            "(1, 2)\n",
            "start: 2 , end: 3, pos: 0, lastindex: 9\n",
            "(2, 3)\n",
            "start: 3 , end: 4, pos: 0, lastindex: 9\n",
            "(3, 4)\n",
            "start: 4 , end: 5, pos: 0, lastindex: 9\n",
            "(4, 5)\n",
            "start: 5 , end: 6, pos: 0, lastindex: 9\n",
            "(5, 6)\n"
          ]
        }
      ]
    },
    {
      "cell_type": "code",
      "source": [
        "# 日付\n",
        "from datetime import datetime \n",
        "\n",
        "datetime.now() # 現在時刻でdatetimeオブジェクトを生成\n",
        "specified = datetime(2022, 1, 1) # 指定日付でdatetimeオブジェクトを生成。(時間しても可能)\n",
        "print(specified)\n",
        "print(specified.strftime(\"%Y/%m/%d\")) # datetime -> 指定フォーマット文字列へ\n",
        "print(datetime.strptime(\"2022/01/01 01:00:00:001\", \"%Y/%m/%d %H:%M:%S:%f\")) # 文字列 -> datetimeオブジェクトへ\n"
      ],
      "metadata": {
        "colab": {
          "base_uri": "https://localhost:8080/"
        },
        "id": "QMRPoVESkWdW",
        "outputId": "aed05ab3-0f3e-4d7c-b48a-78cdef1b3f51"
      },
      "execution_count": 124,
      "outputs": [
        {
          "output_type": "stream",
          "name": "stdout",
          "text": [
            "2022-01-01 00:00:00\n",
            "2022/01/01\n",
            "2022-01-01 01:00:00.001000\n"
          ]
        }
      ]
    },
    {
      "cell_type": "code",
      "source": [
        "# Unicode\n",
        "codePoint = ord(\"A\") # codepointを取得\n",
        "print(codePoint)\n",
        "print(hex(codePoint)) # 16進化\n",
        "print(chr(codePoint + 1)) # コードポイントからその文字へ変換"
      ],
      "metadata": {
        "colab": {
          "base_uri": "https://localhost:8080/"
        },
        "id": "In3uZu8HnzcF",
        "outputId": "9f77d166-92ed-4747-f4fe-0ab132c7c13c"
      },
      "execution_count": 138,
      "outputs": [
        {
          "output_type": "stream",
          "name": "stdout",
          "text": [
            "65\n",
            "0x41\n",
            "B\n"
          ]
        }
      ]
    },
    {
      "cell_type": "code",
      "source": [
        "# 標準関数\n",
        "### map()\n",
        "result = map(lambda x: x * 2, [1,2,3]) # 結果はmapオブジェクトが返る。(iterableなのでforなどで使用可能)\n",
        "print(*result) # listにしたい場合は結果をlist()でラップする\n",
        "\n",
        "### filter()\n",
        "result = filter(lambda x: x < 5, [2,4,6]) # filterオブジェクトが返る。他はmap同様\n",
        "print(*result)\n",
        "\n",
        "### chr(), ord() 前述Unicodeを参照"
      ],
      "metadata": {
        "colab": {
          "base_uri": "https://localhost:8080/"
        },
        "id": "Lj-gPBtsrRKv",
        "outputId": "5a226eaa-7421-46f5-f314-1dc23fe29a35"
      },
      "execution_count": 143,
      "outputs": [
        {
          "output_type": "stream",
          "name": "stdout",
          "text": [
            "2 4 6\n",
            "2 4\n"
          ]
        }
      ]
    }
  ]
}