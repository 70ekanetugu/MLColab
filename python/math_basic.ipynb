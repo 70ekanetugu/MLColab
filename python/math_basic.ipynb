{
  "nbformat": 4,
  "nbformat_minor": 0,
  "metadata": {
    "colab": {
      "name": "math_basic.ipynb",
      "provenance": [],
      "collapsed_sections": [],
      "authorship_tag": "ABX9TyNW5/6HpHeI6DzyJT/5HrmC",
      "include_colab_link": true
    },
    "kernelspec": {
      "name": "python3",
      "display_name": "Python 3"
    },
    "language_info": {
      "name": "python"
    }
  },
  "cells": [
    {
      "cell_type": "markdown",
      "metadata": {
        "id": "view-in-github",
        "colab_type": "text"
      },
      "source": [
        "<a href=\"https://colab.research.google.com/github/70ekanetugu/MLColab/blob/main/python/math_basic.ipynb\" target=\"_parent\"><img src=\"https://colab.research.google.com/assets/colab-badge.svg\" alt=\"Open In Colab\"/></a>"
      ]
    },
    {
      "cell_type": "code",
      "execution_count": 1,
      "metadata": {
        "id": "FKjtFXtyAe-h",
        "colab": {
          "base_uri": "https://localhost:8080/"
        },
        "outputId": "1dc600b5-bbc0-429f-e297-ade37c674f8f"
      },
      "outputs": [
        {
          "output_type": "stream",
          "name": "stdout",
          "text": [
            "15\n"
          ]
        }
      ],
      "source": [
        "# シグマ\n",
        "import numpy as np\n",
        "\n",
        "a = np.array([1,3,2,5,4])\n",
        "y = np.sum(a)\n",
        "print(y)"
      ]
    },
    {
      "cell_type": "code",
      "source": [
        "# ネイピア数\n",
        "print(np.e)\n",
        "print(np.exp(1))"
      ],
      "metadata": {
        "colab": {
          "base_uri": "https://localhost:8080/"
        },
        "id": "K5oE99Ig0Lc1",
        "outputId": "50134cd6-e6db-4891-d879-67be11ace537"
      },
      "execution_count": 2,
      "outputs": [
        {
          "output_type": "stream",
          "name": "stdout",
          "text": [
            "2.718281828459045\n",
            "2.718281828459045\n"
          ]
        }
      ]
    },
    {
      "cell_type": "code",
      "source": [
        "# 自然対数\n",
        "print(np.log(np.e))\n",
        "print(np.log(np.exp(2)))\n",
        "print(np.log(np.exp(12)))"
      ],
      "metadata": {
        "colab": {
          "base_uri": "https://localhost:8080/"
        },
        "id": "u2gkxl-U0Ubt",
        "outputId": "97b9c508-0fc7-4294-8f5e-4c19cf2d243f"
      },
      "execution_count": 4,
      "outputs": [
        {
          "output_type": "stream",
          "name": "stdout",
          "text": [
            "1.0\n",
            "2.0\n",
            "12.0\n"
          ]
        }
      ]
    },
    {
      "cell_type": "code",
      "source": [
        "# ベクトル(1次元のNumpy配列)\n",
        "a = np.array([3,2,1])\n",
        "b = np.array([-2.3, 0.25, -1.2, 1.8,0.41])\n",
        "print(a)\n",
        "print(b)\n",
        "\n",
        "# 行列(2次元のNumpy配列)\n",
        "a = np.array([[1,0,5], \n",
        "              [4,3,2]])\n",
        "print(a)\n",
        "b = np.array([[1.2, 0.18],\n",
        "              [2.3, -0.31],\n",
        "              [1, 2]])\n",
        "print(b)\n",
        "\n",
        "## 行列積\n",
        "print(\"行列積: \", np.dot(a, b))\n",
        "\n",
        "## アダマール積(=要素ごとの積)\n",
        "b = np.array([[1.2, 0.18, 1],\n",
        "              [2.3, -0.31, 2]])\n",
        "print(\"アダマール積: \", a * b)\n",
        "\n",
        "# 転置\n",
        "print(a.T)\n"
      ],
      "metadata": {
        "colab": {
          "base_uri": "https://localhost:8080/"
        },
        "id": "CscqEkIO0fZF",
        "outputId": "1358ed27-976f-45b1-ec4a-6808329c86b8"
      },
      "execution_count": 14,
      "outputs": [
        {
          "output_type": "stream",
          "name": "stdout",
          "text": [
            "[3 2 1]\n",
            "[-2.3   0.25 -1.2   1.8   0.41]\n",
            "[[1 0 5]\n",
            " [4 3 2]]\n",
            "[[ 1.2   0.18]\n",
            " [ 2.3  -0.31]\n",
            " [ 1.    2.  ]]\n",
            "行列積:  [[ 6.2  10.18]\n",
            " [13.7   3.79]]\n",
            "アダマール積:  [[ 1.2   0.    5.  ]\n",
            " [ 9.2  -0.93  4.  ]]\n",
            "[[1 4]\n",
            " [0 3]\n",
            " [5 2]]\n"
          ]
        }
      ]
    }
  ]
}