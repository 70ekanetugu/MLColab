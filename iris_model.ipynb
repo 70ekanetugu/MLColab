{
  "nbformat": 4,
  "nbformat_minor": 0,
  "metadata": {
    "colab": {
      "name": "iris_model.ipynb",
      "provenance": [],
      "collapsed_sections": [],
      "authorship_tag": "ABX9TyNtOqa3ufnlMtFVBGJ96keZ",
      "include_colab_link": true
    },
    "kernelspec": {
      "name": "python3",
      "display_name": "Python 3"
    },
    "language_info": {
      "name": "python"
    }
  },
  "cells": [
    {
      "cell_type": "markdown",
      "metadata": {
        "id": "view-in-github",
        "colab_type": "text"
      },
      "source": [
        "<a href=\"https://colab.research.google.com/github/70ekanetugu/MLColab/blob/main/iris_model.ipynb\" target=\"_parent\"><img src=\"https://colab.research.google.com/assets/colab-badge.svg\" alt=\"Open In Colab\"/></a>"
      ]
    },
    {
      "cell_type": "code",
      "execution_count": 2,
      "metadata": {
        "colab": {
          "base_uri": "https://localhost:8080/"
        },
        "id": "ZzJuRk603J1D",
        "outputId": "eb153476-111f-4f81-bfa8-88e32b6b55d4"
      },
      "outputs": [
        {
          "output_type": "stream",
          "name": "stdout",
          "text": [
            "[[5.1 3.5 1.4 0.2]\n",
            " [4.9 3.  1.4 0.2]\n",
            " [4.7 3.2 1.3 0.2]\n",
            " [4.6 3.1 1.5 0.2]\n",
            " [5.  3.6 1.4 0.2]\n",
            " [5.4 3.9 1.7 0.4]\n",
            " [4.6 3.4 1.4 0.3]\n",
            " [5.  3.4 1.5 0.2]\n",
            " [4.4 2.9 1.4 0.2]\n",
            " [4.9 3.1 1.5 0.1]]\n",
            "(150, 4)\n",
            "[0 0 0 0 0 0 0 0 0 0 0 0 0 0 0 0 0 0 0 0 0 0 0 0 0 0 0 0 0 0 0 0 0 0 0 0 0\n",
            " 0 0 0 0 0 0 0 0 0 0 0 0 0 1 1 1 1 1 1 1 1 1 1 1 1 1 1 1 1 1 1 1 1 1 1 1 1\n",
            " 1 1 1 1 1 1 1 1 1 1 1 1 1 1 1 1 1 1 1 1 1 1 1 1 1 1 2 2 2 2 2 2 2 2 2 2 2\n",
            " 2 2 2 2 2 2 2 2 2 2 2 2 2 2 2 2 2 2 2 2 2 2 2 2 2 2 2 2 2 2 2 2 2 2 2 2 2\n",
            " 2 2]\n"
          ]
        }
      ],
      "source": [
        "# scikit-learnからデータセットの読み込み\n",
        "import numpy as np\n",
        "from sklearn import datasets\n",
        "\n",
        "iris = datasets.load_iris() \n",
        "print(iris.data[:10]) \n",
        "print(iris.data.shape)\n",
        "print(iris.target)"
      ]
    },
    {
      "cell_type": "code",
      "source": [
        "# データの前処理\n",
        "from sklearn import preprocessing\n",
        "from keras.utils import np_utils\n",
        "\n",
        "### データの標準化\n",
        "scaler = preprocessing.StandardScaler() # 標準化(平均：0, 標準偏差: 1)用のオブジェクト\n",
        "scaler.fit(iris.data) # 標準化に必要なデータの計算 \n",
        "x = scaler.transform(iris.data) # 標準化データへ変換\n",
        "print(x[:10])\n",
        "\n",
        "### 教師データをone-hot表現に変換\n",
        "t = np_utils.to_categorical(iris.target) # one-hot表現に変換\n",
        "print(t[:10])"
      ],
      "metadata": {
        "colab": {
          "base_uri": "https://localhost:8080/"
        },
        "id": "hsUuIgGF6o8Q",
        "outputId": "99010810-1aa3-4b16-ca07-bea444c3c13a"
      },
      "execution_count": 6,
      "outputs": [
        {
          "output_type": "stream",
          "name": "stdout",
          "text": [
            "[[-0.90068117  1.01900435 -1.34022653 -1.3154443 ]\n",
            " [-1.14301691 -0.13197948 -1.34022653 -1.3154443 ]\n",
            " [-1.38535265  0.32841405 -1.39706395 -1.3154443 ]\n",
            " [-1.50652052  0.09821729 -1.2833891  -1.3154443 ]\n",
            " [-1.02184904  1.24920112 -1.34022653 -1.3154443 ]\n",
            " [-0.53717756  1.93979142 -1.16971425 -1.05217993]\n",
            " [-1.50652052  0.78880759 -1.34022653 -1.18381211]\n",
            " [-1.02184904  0.78880759 -1.2833891  -1.3154443 ]\n",
            " [-1.74885626 -0.36217625 -1.34022653 -1.3154443 ]\n",
            " [-1.14301691  0.09821729 -1.2833891  -1.44707648]]\n",
            "[[1. 0. 0.]\n",
            " [1. 0. 0.]\n",
            " [1. 0. 0.]\n",
            " [1. 0. 0.]\n",
            " [1. 0. 0.]\n",
            " [1. 0. 0.]\n",
            " [1. 0. 0.]\n",
            " [1. 0. 0.]\n",
            " [1. 0. 0.]\n",
            " [1. 0. 0.]]\n"
          ]
        }
      ]
    },
    {
      "cell_type": "code",
      "source": [
        "# 訓練データとテストデータに分ける\n",
        "from sklearn.model_selection import train_test_split\n",
        "\n",
        "x_train, x_test, t_train, t_test = train_test_split(x, t, train_size=0.75) # 訓練用データとテスト用データに分ける\n",
        "### x_train : 訓練用の入力データ\n",
        "### x_test：テスト用の入力データ\n",
        "### t_train: 訓練用の教師データ\n",
        "### t_test: テスト用の教師データ"
      ],
      "metadata": {
        "id": "FkGPPko07yYv"
      },
      "execution_count": 7,
      "outputs": []
    },
    {
      "cell_type": "code",
      "source": [
        "# モデルの構築\n",
        "from keras.models import Sequential\n",
        "from keras.layers import Dense, Activation\n",
        "\n",
        "model = Sequential() # 初期化\n",
        "model.add(Dense(32, input_dim=4)) # 32個のニューロンを持つ全結合層(入力層)\n",
        "model.add(Activation('relu')) # 活性化関数にランプ関数を指定\n",
        "model.add(Dense(32)) # 32個のニューロンを持つ全結合層(隠れ層)\n",
        "model.add(Activation(\"relu\")) \n",
        "model.add(Dense(3)) # 3個のニューロンを持つ全結合層(出力層)\n",
        "model.add(Activation(\"softmax\")) # 活性化関数にソフトマックス関数を指定\n",
        "model.compile(optimizer=\"sgd\", loss=\"categorical_crossentropy\", metrics=[\"accuracy\"]) # モデルをコンパイル。\n",
        "\n",
        "print(model.summary()) # モデルの内容を表示\n",
        "\n",
        "# 学習\n",
        "history = model.fit(x_train, t_train, epochs=30, batch_size=8)\n",
        "\n",
        "# 結果(学習推移)表示\n",
        "import matplotlib.pyplot as plt\n",
        "\n",
        "hist_loss = history.history[\"loss\"] # 訓練データの誤差\n",
        "hist_acc = history.history[\"accuracy\"] # 訓練データの精度(正解率)\n",
        "plt.plot(np.arange(len(hist_loss)), hist_loss, label=\"loss\")\n",
        "plt.plot(np.arange(len(hist_acc)), hist_acc, label=\"accuracy\")\n",
        "plt.legend()\n",
        "plt.show()"
      ],
      "metadata": {
        "colab": {
          "base_uri": "https://localhost:8080/",
          "height": 1000
        },
        "id": "e8AiiKoa8WPX",
        "outputId": "04bcb779-9d5e-498a-8a2f-3b41e6cd2290"
      },
      "execution_count": 12,
      "outputs": [
        {
          "output_type": "stream",
          "name": "stdout",
          "text": [
            "Model: \"sequential_3\"\n",
            "_________________________________________________________________\n",
            " Layer (type)                Output Shape              Param #   \n",
            "=================================================================\n",
            " dense_7 (Dense)             (None, 32)                160       \n",
            "                                                                 \n",
            " activation_6 (Activation)   (None, 32)                0         \n",
            "                                                                 \n",
            " dense_8 (Dense)             (None, 32)                1056      \n",
            "                                                                 \n",
            " activation_7 (Activation)   (None, 32)                0         \n",
            "                                                                 \n",
            " dense_9 (Dense)             (None, 3)                 99        \n",
            "                                                                 \n",
            " activation_8 (Activation)   (None, 3)                 0         \n",
            "                                                                 \n",
            "=================================================================\n",
            "Total params: 1,315\n",
            "Trainable params: 1,315\n",
            "Non-trainable params: 0\n",
            "_________________________________________________________________\n",
            "None\n",
            "Epoch 1/30\n",
            "14/14 [==============================] - 0s 2ms/step - loss: 0.9666 - accuracy: 0.5357\n",
            "Epoch 2/30\n",
            "14/14 [==============================] - 0s 2ms/step - loss: 0.9053 - accuracy: 0.6339\n",
            "Epoch 3/30\n",
            "14/14 [==============================] - 0s 2ms/step - loss: 0.8502 - accuracy: 0.6875\n",
            "Epoch 4/30\n",
            "14/14 [==============================] - 0s 2ms/step - loss: 0.8015 - accuracy: 0.7054\n",
            "Epoch 5/30\n",
            "14/14 [==============================] - 0s 2ms/step - loss: 0.7559 - accuracy: 0.7679\n",
            "Epoch 6/30\n",
            "14/14 [==============================] - 0s 2ms/step - loss: 0.7135 - accuracy: 0.7857\n",
            "Epoch 7/30\n",
            "14/14 [==============================] - 0s 2ms/step - loss: 0.6767 - accuracy: 0.8036\n",
            "Epoch 8/30\n",
            "14/14 [==============================] - 0s 2ms/step - loss: 0.6408 - accuracy: 0.8125\n",
            "Epoch 9/30\n",
            "14/14 [==============================] - 0s 2ms/step - loss: 0.6093 - accuracy: 0.8214\n",
            "Epoch 10/30\n",
            "14/14 [==============================] - 0s 2ms/step - loss: 0.5803 - accuracy: 0.8125\n",
            "Epoch 11/30\n",
            "14/14 [==============================] - 0s 2ms/step - loss: 0.5537 - accuracy: 0.8304\n",
            "Epoch 12/30\n",
            "14/14 [==============================] - 0s 2ms/step - loss: 0.5293 - accuracy: 0.8304\n",
            "Epoch 13/30\n",
            "14/14 [==============================] - 0s 2ms/step - loss: 0.5078 - accuracy: 0.8304\n",
            "Epoch 14/30\n",
            "14/14 [==============================] - 0s 2ms/step - loss: 0.4873 - accuracy: 0.8482\n",
            "Epoch 15/30\n",
            "14/14 [==============================] - 0s 2ms/step - loss: 0.4677 - accuracy: 0.8482\n",
            "Epoch 16/30\n",
            "14/14 [==============================] - 0s 2ms/step - loss: 0.4506 - accuracy: 0.8482\n",
            "Epoch 17/30\n",
            "14/14 [==============================] - 0s 2ms/step - loss: 0.4347 - accuracy: 0.8482\n",
            "Epoch 18/30\n",
            "14/14 [==============================] - 0s 2ms/step - loss: 0.4199 - accuracy: 0.8571\n",
            "Epoch 19/30\n",
            "14/14 [==============================] - 0s 2ms/step - loss: 0.4061 - accuracy: 0.8750\n",
            "Epoch 20/30\n",
            "14/14 [==============================] - 0s 2ms/step - loss: 0.3929 - accuracy: 0.8929\n",
            "Epoch 21/30\n",
            "14/14 [==============================] - 0s 2ms/step - loss: 0.3809 - accuracy: 0.8929\n",
            "Epoch 22/30\n",
            "14/14 [==============================] - 0s 2ms/step - loss: 0.3688 - accuracy: 0.8839\n",
            "Epoch 23/30\n",
            "14/14 [==============================] - 0s 2ms/step - loss: 0.3576 - accuracy: 0.8929\n",
            "Epoch 24/30\n",
            "14/14 [==============================] - 0s 2ms/step - loss: 0.3485 - accuracy: 0.9018\n",
            "Epoch 25/30\n",
            "14/14 [==============================] - 0s 2ms/step - loss: 0.3380 - accuracy: 0.9018\n",
            "Epoch 26/30\n",
            "14/14 [==============================] - 0s 2ms/step - loss: 0.3281 - accuracy: 0.9107\n",
            "Epoch 27/30\n",
            "14/14 [==============================] - 0s 2ms/step - loss: 0.3190 - accuracy: 0.9286\n",
            "Epoch 28/30\n",
            "14/14 [==============================] - 0s 2ms/step - loss: 0.3103 - accuracy: 0.9286\n",
            "Epoch 29/30\n",
            "14/14 [==============================] - 0s 2ms/step - loss: 0.3022 - accuracy: 0.9286\n",
            "Epoch 30/30\n",
            "14/14 [==============================] - 0s 2ms/step - loss: 0.2945 - accuracy: 0.9286\n"
          ]
        },
        {
          "output_type": "display_data",
          "data": {
            "text/plain": [
              "<Figure size 432x288 with 1 Axes>"
            ],
            "image/png": "[encoded data removed]"
          },
          "metadata": {
            "needs_background": "light"
          }
        }
      ]
    },
    {
      "cell_type": "code",
      "source": [
        "# モデル評価\n",
        "loss, accuracy = model.evaluate(x_test, t_test)\n",
        "print(\"誤差: \" , loss, \"精度: \", accuracy)"
      ],
      "metadata": {
        "colab": {
          "base_uri": "https://localhost:8080/"
        },
        "id": "DZ-IEq2c9tiQ",
        "outputId": "366c65c4-a4c1-411c-b84b-f2d66b33d3e9"
      },
      "execution_count": 13,
      "outputs": [
        {
          "output_type": "stream",
          "name": "stdout",
          "text": [
            "2/2 [==============================] - 0s 6ms/step - loss: 0.2568 - accuracy: 0.9737\n",
            "誤差:  0.25675907731056213 精度:  0.9736841917037964\n"
          ]
        }
      ]
    },
    {
      "cell_type": "code",
      "source": [
        "# モデルの使用\n",
        "y_test = model.predict(x_test)\n",
        "print(y_test[:10]) # 予測結果の確率(各行がそれぞれ3つの分類に対する確率で総和が1になっている)\n",
        "\n",
        "# モデルの保存・読込\n",
        "from keras.models import load_model\n",
        "\n",
        "model.save(\"iris_model.h5\")\n",
        "model = load_model(\"iris_model.h5\")"
      ],
      "metadata": {
        "colab": {
          "base_uri": "https://localhost:8080/"
        },
        "id": "6sCZ7A2097j3",
        "outputId": "a085b53d-d187-44a8-e512-3825ae529fc8"
      },
      "execution_count": 15,
      "outputs": [
        {
          "output_type": "stream",
          "name": "stdout",
          "text": [
            "[[0.1369523  0.4500707  0.41297692]\n",
            " [0.02696186 0.12501167 0.84802645]\n",
            " [0.06510405 0.29542926 0.63946664]\n",
            " [0.01940054 0.0660339  0.9145655 ]\n",
            " [0.05322745 0.30315888 0.64361364]\n",
            " [0.9667935  0.02614562 0.00706083]\n",
            " [0.9757268  0.01911635 0.00515682]\n",
            " [0.9722096  0.02254736 0.00524309]\n",
            " [0.06071328 0.8954091  0.04387762]\n",
            " [0.98831743 0.0096881  0.00199448]]\n"
          ]
        }
      ]
    }
  ]
}